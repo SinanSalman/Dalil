{
 "cells": [
  {
   "cell_type": "code",
   "execution_count": null,
   "metadata": {},
   "outputs": [],
   "source": [
    "import numpy\n",
    "from extract_digit_images_v2 import GetDigitImages\n",
    "from tensorflow.keras.models import load_model\n",
    "\n",
    "print(f'Loading tensorflow model...')\n",
    "model = load_model('model.h5')"
   ]
  },
  {
   "cell_type": "code",
   "execution_count": null,
   "metadata": {},
   "outputs": [],
   "source": [
    "import matplotlib.pyplot as plt\n",
    "from PIL import Image\n",
    "img = Image.open('test.jpg')\n",
    "img_segs = GetDigitImages(img)\n",
    "plt.figure(figsize=(20,5))\n",
    "for i in range(9):\n",
    "    plt.subplot(1, 9, i+1)\n",
    "    plt.xticks(range(0,28,2))\n",
    "    plt.yticks(range(0,28,2))\n",
    "    plt.imshow(img_segs[i], cmap=plt.cm.binary)\n",
    "#     plt.grid()\n",
    "plt.show()\n",
    "\n",
    "img_segs = numpy.array([numpy.array(x) for x in img_segs])\n",
    "img_segs = 1 - img_segs.reshape(9, 28, 28, 1).astype('float32') / 255.0\n",
    "prediction = model.predict(img_segs)\n",
    "print(prediction.argmax(axis=1),'\\n')\n",
    "print(prediction.round(2))"
   ]
  },
  {
   "cell_type": "code",
   "execution_count": null,
   "metadata": {},
   "outputs": [],
   "source": [
    "import matplotlib.pyplot as plt\n",
    "\n",
    "import cv2\n",
    "import numpy as np\n",
    "\n",
    "im = np.array(img)\n",
    "i1 = cv2.cvtColor(im, cv2.COLOR_BGR2GRAY)  # convert to grey\n",
    "i2 = i1.copy()\n",
    "\n",
    "h, w = i2.shape\n",
    "for _ in range(2):\n",
    "    s_h = np.sum(i2,1)\n",
    "    argmin = np.argmin(s_h)\n",
    "    mask = range(argmin-3,argmin+3+1)\n",
    "    i2[mask,:] = 255\n",
    "s_v = np.sum(i1,0)\n",
    "s_v_start=np.argmax(s_v<np.max(s_v)*0.99)\n",
    "s_v_end=w-np.argmax(s_v[::-1]<np.max(s_v)*0.99)\n",
    "for x in np.arange(s_v_start,s_v_end+1,(s_v_end-s_v_start)/9):\n",
    "    i = int(x)\n",
    "    i2[:,i-3:i+3+1] = 255\n",
    "\n",
    "i3 = cv2.threshold(i2, 50, 255, cv2.THRESH_TOZERO)[1]\n",
    "j=10\n",
    "i4 = cv2.threshold(i2+j, j, 255, cv2.THRESH_TOZERO)[1]\n",
    "i4 = np.clip(i4,0,255)\n",
    "# i4 = cv2.adaptiveThreshold(i2,255,cv2.ADAPTIVE_THRESH_GAUSSIAN_C,cv2.THRESH_BINARY,33,11)\n",
    "\n",
    "for x in [i2,i3,i4]:\n",
    "    plt.imshow(x, cmap=plt.cm.binary)\n",
    "    plt.show()"
   ]
  },
  {
   "cell_type": "code",
   "execution_count": null,
   "metadata": {},
   "outputs": [],
   "source": []
  }
 ],
 "metadata": {
  "kernelspec": {
   "display_name": "Python 3",
   "language": "python",
   "name": "python3"
  },
  "language_info": {
   "codemirror_mode": {
    "name": "ipython",
    "version": 3
   },
   "file_extension": ".py",
   "mimetype": "text/x-python",
   "name": "python",
   "nbconvert_exporter": "python",
   "pygments_lexer": "ipython3",
   "version": "3.7.6"
  }
 },
 "nbformat": 4,
 "nbformat_minor": 4
}
